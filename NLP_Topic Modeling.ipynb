{
 "cells": [
  {
   "cell_type": "markdown",
   "metadata": {
    "execution": {
     "iopub.execute_input": "2022-02-03T06:52:02.967431Z",
     "iopub.status.busy": "2022-02-03T06:52:02.966756Z",
     "iopub.status.idle": "2022-02-03T06:52:02.972647Z",
     "shell.execute_reply": "2022-02-03T06:52:02.971611Z",
     "shell.execute_reply.started": "2022-02-03T06:52:02.967384Z"
    },
    "id": "P9THKUWv3Y-q"
   },
   "source": [
    "# 1. Read the .csv file using Pandas. Take a look at the top few records."
   ]
  },
  {
   "cell_type": "code",
   "execution_count": 1,
   "metadata": {},
   "outputs": [],
   "source": [
    "import pandas as pd\n",
    "import nltk\n",
    "from nltk.tokenize import word_tokenize\n",
    "from nltk.corpus import stopwords"
   ]
  },
  {
   "cell_type": "code",
   "execution_count": 2,
   "metadata": {
    "execution": {
     "iopub.execute_input": "2022-02-03T06:52:08.147240Z",
     "iopub.status.busy": "2022-02-03T06:52:08.146388Z",
     "iopub.status.idle": "2022-02-03T06:52:08.309270Z",
     "shell.execute_reply": "2022-02-03T06:52:08.308307Z",
     "shell.execute_reply.started": "2022-02-03T06:52:08.147170Z"
    },
    "id": "fa_cV1Yw3ZNs",
    "outputId": "931fd8bd-d1c7-4a48-c0f5-0f12be277f52"
   },
   "outputs": [
    {
     "data": {
      "text/html": [
       "<div>\n",
       "<style scoped>\n",
       "    .dataframe tbody tr th:only-of-type {\n",
       "        vertical-align: middle;\n",
       "    }\n",
       "\n",
       "    .dataframe tbody tr th {\n",
       "        vertical-align: top;\n",
       "    }\n",
       "\n",
       "    .dataframe thead th {\n",
       "        text-align: right;\n",
       "    }\n",
       "</style>\n",
       "<table border=\"1\" class=\"dataframe\">\n",
       "  <thead>\n",
       "    <tr style=\"text-align: right;\">\n",
       "      <th></th>\n",
       "      <th>sentiment</th>\n",
       "      <th>review</th>\n",
       "    </tr>\n",
       "  </thead>\n",
       "  <tbody>\n",
       "    <tr>\n",
       "      <th>0</th>\n",
       "      <td>1</td>\n",
       "      <td>Good but need updates and improvements</td>\n",
       "    </tr>\n",
       "    <tr>\n",
       "      <th>1</th>\n",
       "      <td>0</td>\n",
       "      <td>Worst mobile i have bought ever, Battery is dr...</td>\n",
       "    </tr>\n",
       "    <tr>\n",
       "      <th>2</th>\n",
       "      <td>1</td>\n",
       "      <td>when I will get my 10% cash back.... its alrea...</td>\n",
       "    </tr>\n",
       "    <tr>\n",
       "      <th>3</th>\n",
       "      <td>1</td>\n",
       "      <td>Good</td>\n",
       "    </tr>\n",
       "    <tr>\n",
       "      <th>4</th>\n",
       "      <td>0</td>\n",
       "      <td>The worst phone everThey have changed the last...</td>\n",
       "    </tr>\n",
       "    <tr>\n",
       "      <th>...</th>\n",
       "      <td>...</td>\n",
       "      <td>...</td>\n",
       "    </tr>\n",
       "    <tr>\n",
       "      <th>14670</th>\n",
       "      <td>1</td>\n",
       "      <td>I really like the phone, Everything is working...</td>\n",
       "    </tr>\n",
       "    <tr>\n",
       "      <th>14671</th>\n",
       "      <td>1</td>\n",
       "      <td>The Lenovo K8 Note is awesome. It takes best p...</td>\n",
       "    </tr>\n",
       "    <tr>\n",
       "      <th>14672</th>\n",
       "      <td>1</td>\n",
       "      <td>Awesome Gaget.. @ this price</td>\n",
       "    </tr>\n",
       "    <tr>\n",
       "      <th>14673</th>\n",
       "      <td>1</td>\n",
       "      <td>This phone is nice processing will be successf...</td>\n",
       "    </tr>\n",
       "    <tr>\n",
       "      <th>14674</th>\n",
       "      <td>1</td>\n",
       "      <td>Good product but the pakeging was not enough.</td>\n",
       "    </tr>\n",
       "  </tbody>\n",
       "</table>\n",
       "<p>14675 rows × 2 columns</p>\n",
       "</div>"
      ],
      "text/plain": [
       "       sentiment                                             review\n",
       "0              1             Good but need updates and improvements\n",
       "1              0  Worst mobile i have bought ever, Battery is dr...\n",
       "2              1  when I will get my 10% cash back.... its alrea...\n",
       "3              1                                               Good\n",
       "4              0  The worst phone everThey have changed the last...\n",
       "...          ...                                                ...\n",
       "14670          1  I really like the phone, Everything is working...\n",
       "14671          1  The Lenovo K8 Note is awesome. It takes best p...\n",
       "14672          1                       Awesome Gaget.. @ this price\n",
       "14673          1  This phone is nice processing will be successf...\n",
       "14674          1      Good product but the pakeging was not enough.\n",
       "\n",
       "[14675 rows x 2 columns]"
      ]
     },
     "execution_count": 2,
     "metadata": {},
     "output_type": "execute_result"
    }
   ],
   "source": [
    "data = pd.read_csv(\"K8 Reviews v0.2.csv\")\n",
    "data"
   ]
  },
  {
   "cell_type": "markdown",
   "metadata": {
    "id": "iYYJJgBg34sw"
   },
   "source": [
    "# Data Cleaning"
   ]
  },
  {
   "cell_type": "code",
   "execution_count": 3,
   "metadata": {
    "execution": {
     "iopub.execute_input": "2021-11-19T13:32:53.70978Z",
     "iopub.status.busy": "2021-11-19T13:32:53.709314Z",
     "iopub.status.idle": "2021-11-19T13:32:53.736413Z",
     "shell.execute_reply": "2021-11-19T13:32:53.735572Z",
     "shell.execute_reply.started": "2021-11-19T13:32:53.709747Z"
    },
    "id": "ZWVACXBU3ZRC",
    "outputId": "6f6f08b0-15ef-4efd-e1c1-425ef6ff04b8"
   },
   "outputs": [
    {
     "data": {
      "text/html": [
       "<div>\n",
       "<style scoped>\n",
       "    .dataframe tbody tr th:only-of-type {\n",
       "        vertical-align: middle;\n",
       "    }\n",
       "\n",
       "    .dataframe tbody tr th {\n",
       "        vertical-align: top;\n",
       "    }\n",
       "\n",
       "    .dataframe thead th {\n",
       "        text-align: right;\n",
       "    }\n",
       "</style>\n",
       "<table border=\"1\" class=\"dataframe\">\n",
       "  <thead>\n",
       "    <tr style=\"text-align: right;\">\n",
       "      <th></th>\n",
       "      <th>sentiment</th>\n",
       "      <th>review</th>\n",
       "    </tr>\n",
       "  </thead>\n",
       "  <tbody>\n",
       "    <tr>\n",
       "      <th>0</th>\n",
       "      <td>1</td>\n",
       "      <td>good but need updates and improvements</td>\n",
       "    </tr>\n",
       "    <tr>\n",
       "      <th>1</th>\n",
       "      <td>0</td>\n",
       "      <td>worst mobile i have bought ever, battery is dr...</td>\n",
       "    </tr>\n",
       "    <tr>\n",
       "      <th>2</th>\n",
       "      <td>1</td>\n",
       "      <td>when i will get my 10% cash back.... its alrea...</td>\n",
       "    </tr>\n",
       "    <tr>\n",
       "      <th>3</th>\n",
       "      <td>1</td>\n",
       "      <td>good</td>\n",
       "    </tr>\n",
       "    <tr>\n",
       "      <th>4</th>\n",
       "      <td>0</td>\n",
       "      <td>the worst phone everthey have changed the last...</td>\n",
       "    </tr>\n",
       "  </tbody>\n",
       "</table>\n",
       "</div>"
      ],
      "text/plain": [
       "   sentiment                                             review\n",
       "0          1             good but need updates and improvements\n",
       "1          0  worst mobile i have bought ever, battery is dr...\n",
       "2          1  when i will get my 10% cash back.... its alrea...\n",
       "3          1                                               good\n",
       "4          0  the worst phone everthey have changed the last..."
      ]
     },
     "execution_count": 3,
     "metadata": {},
     "output_type": "execute_result"
    }
   ],
   "source": [
    "# convert all records into lower case\n",
    "data[\"review\"] = data[\"review\"].str.lower()\n",
    "data.head()"
   ]
  },
  {
   "cell_type": "code",
   "execution_count": 4,
   "metadata": {
    "execution": {
     "iopub.execute_input": "2021-11-19T13:32:53.738452Z",
     "iopub.status.busy": "2021-11-19T13:32:53.73774Z",
     "iopub.status.idle": "2021-11-19T13:32:53.810187Z",
     "shell.execute_reply": "2021-11-19T13:32:53.809145Z",
     "shell.execute_reply.started": "2021-11-19T13:32:53.738406Z"
    },
    "id": "aY4sz1yS3ZUS",
    "outputId": "62ccec4f-3f20-4c3e-85c4-46fbcf24406b"
   },
   "outputs": [
    {
     "data": {
      "text/html": [
       "<div>\n",
       "<style scoped>\n",
       "    .dataframe tbody tr th:only-of-type {\n",
       "        vertical-align: middle;\n",
       "    }\n",
       "\n",
       "    .dataframe tbody tr th {\n",
       "        vertical-align: top;\n",
       "    }\n",
       "\n",
       "    .dataframe thead th {\n",
       "        text-align: right;\n",
       "    }\n",
       "</style>\n",
       "<table border=\"1\" class=\"dataframe\">\n",
       "  <thead>\n",
       "    <tr style=\"text-align: right;\">\n",
       "      <th></th>\n",
       "      <th>sentiment</th>\n",
       "      <th>review</th>\n",
       "      <th>clean_review</th>\n",
       "    </tr>\n",
       "  </thead>\n",
       "  <tbody>\n",
       "    <tr>\n",
       "      <th>0</th>\n",
       "      <td>1</td>\n",
       "      <td>good but need updates and improvements</td>\n",
       "      <td>good but need updates and improvements</td>\n",
       "    </tr>\n",
       "    <tr>\n",
       "      <th>1</th>\n",
       "      <td>0</td>\n",
       "      <td>worst mobile i have bought ever, battery is dr...</td>\n",
       "      <td>worst mobile i have bought ever  battery is dr...</td>\n",
       "    </tr>\n",
       "    <tr>\n",
       "      <th>2</th>\n",
       "      <td>1</td>\n",
       "      <td>when i will get my 10% cash back.... its alrea...</td>\n",
       "      <td>when i will get my     cash back     its alrea...</td>\n",
       "    </tr>\n",
       "    <tr>\n",
       "      <th>3</th>\n",
       "      <td>1</td>\n",
       "      <td>good</td>\n",
       "      <td>good</td>\n",
       "    </tr>\n",
       "    <tr>\n",
       "      <th>4</th>\n",
       "      <td>0</td>\n",
       "      <td>the worst phone everthey have changed the last...</td>\n",
       "      <td>the worst phone everthey have changed the last...</td>\n",
       "    </tr>\n",
       "  </tbody>\n",
       "</table>\n",
       "</div>"
      ],
      "text/plain": [
       "   sentiment                                             review  \\\n",
       "0          1             good but need updates and improvements   \n",
       "1          0  worst mobile i have bought ever, battery is dr...   \n",
       "2          1  when i will get my 10% cash back.... its alrea...   \n",
       "3          1                                               good   \n",
       "4          0  the worst phone everthey have changed the last...   \n",
       "\n",
       "                                        clean_review  \n",
       "0             good but need updates and improvements  \n",
       "1  worst mobile i have bought ever  battery is dr...  \n",
       "2  when i will get my     cash back     its alrea...  \n",
       "3                                               good  \n",
       "4  the worst phone everthey have changed the last...  "
      ]
     },
     "execution_count": 4,
     "metadata": {},
     "output_type": "execute_result"
    }
   ],
   "source": [
    "# Removing Special Characters \n",
    "data['clean_review'] = data['review'].str.replace(r'[^a-zA-Z\\s]', ' ',regex=True) \n",
    "data.head()"
   ]
  },
  {
   "cell_type": "markdown",
   "metadata": {
    "id": "BPF3F7V25tmI"
   },
   "source": [
    "## WORD TOKENIZATION"
   ]
  },
  {
   "cell_type": "code",
   "execution_count": 5,
   "metadata": {
    "execution": {
     "iopub.execute_input": "2021-11-19T13:32:53.910342Z",
     "iopub.status.busy": "2021-11-19T13:32:53.909693Z",
     "iopub.status.idle": "2021-11-19T13:32:55.894943Z",
     "shell.execute_reply": "2021-11-19T13:32:55.893812Z",
     "shell.execute_reply.started": "2021-11-19T13:32:53.910294Z"
    },
    "id": "-_h5YLqi5z5B",
    "outputId": "ef17ca99-7e74-4cec-ffa2-2d597969122a"
   },
   "outputs": [
    {
     "data": {
      "text/html": [
       "<div>\n",
       "<style scoped>\n",
       "    .dataframe tbody tr th:only-of-type {\n",
       "        vertical-align: middle;\n",
       "    }\n",
       "\n",
       "    .dataframe tbody tr th {\n",
       "        vertical-align: top;\n",
       "    }\n",
       "\n",
       "    .dataframe thead th {\n",
       "        text-align: right;\n",
       "    }\n",
       "</style>\n",
       "<table border=\"1\" class=\"dataframe\">\n",
       "  <thead>\n",
       "    <tr style=\"text-align: right;\">\n",
       "      <th></th>\n",
       "      <th>sentiment</th>\n",
       "      <th>review</th>\n",
       "      <th>clean_review</th>\n",
       "    </tr>\n",
       "  </thead>\n",
       "  <tbody>\n",
       "    <tr>\n",
       "      <th>0</th>\n",
       "      <td>1</td>\n",
       "      <td>good but need updates and improvements</td>\n",
       "      <td>[good, but, need, updates, and, improvements]</td>\n",
       "    </tr>\n",
       "    <tr>\n",
       "      <th>1</th>\n",
       "      <td>0</td>\n",
       "      <td>worst mobile i have bought ever, battery is dr...</td>\n",
       "      <td>[worst, mobile, i, have, bought, ever, battery...</td>\n",
       "    </tr>\n",
       "    <tr>\n",
       "      <th>2</th>\n",
       "      <td>1</td>\n",
       "      <td>when i will get my 10% cash back.... its alrea...</td>\n",
       "      <td>[when, i, will, get, my, cash, back, its, alre...</td>\n",
       "    </tr>\n",
       "    <tr>\n",
       "      <th>3</th>\n",
       "      <td>1</td>\n",
       "      <td>good</td>\n",
       "      <td>[good]</td>\n",
       "    </tr>\n",
       "    <tr>\n",
       "      <th>4</th>\n",
       "      <td>0</td>\n",
       "      <td>the worst phone everthey have changed the last...</td>\n",
       "      <td>[the, worst, phone, everthey, have, changed, t...</td>\n",
       "    </tr>\n",
       "  </tbody>\n",
       "</table>\n",
       "</div>"
      ],
      "text/plain": [
       "   sentiment                                             review  \\\n",
       "0          1             good but need updates and improvements   \n",
       "1          0  worst mobile i have bought ever, battery is dr...   \n",
       "2          1  when i will get my 10% cash back.... its alrea...   \n",
       "3          1                                               good   \n",
       "4          0  the worst phone everthey have changed the last...   \n",
       "\n",
       "                                        clean_review  \n",
       "0      [good, but, need, updates, and, improvements]  \n",
       "1  [worst, mobile, i, have, bought, ever, battery...  \n",
       "2  [when, i, will, get, my, cash, back, its, alre...  \n",
       "3                                             [good]  \n",
       "4  [the, worst, phone, everthey, have, changed, t...  "
      ]
     },
     "execution_count": 5,
     "metadata": {},
     "output_type": "execute_result"
    }
   ],
   "source": [
    "data['clean_review'] =data['clean_review'].apply(lambda x: word_tokenize(x))\n",
    "data.head()"
   ]
  },
  {
   "cell_type": "code",
   "execution_count": 6,
   "metadata": {
    "execution": {
     "iopub.execute_input": "2021-11-19T13:33:03.142761Z",
     "iopub.status.busy": "2021-11-19T13:33:03.142209Z",
     "iopub.status.idle": "2021-11-19T13:33:37.021094Z",
     "shell.execute_reply": "2021-11-19T13:33:37.020215Z",
     "shell.execute_reply.started": "2021-11-19T13:33:03.142719Z"
    },
    "id": "nsTu7wOE9dsg",
    "outputId": "531f8435-e653-4972-cc51-435fb325a824"
   },
   "outputs": [
    {
     "data": {
      "text/plain": [
       "(   sentiment                                             review  \\\n",
       " 0          1             good but need updates and improvements   \n",
       " 1          0  worst mobile i have bought ever, battery is dr...   \n",
       " 2          1  when i will get my 10% cash back.... its alrea...   \n",
       " 3          1                                               good   \n",
       " 4          0  the worst phone everthey have changed the last...   \n",
       " \n",
       "                                         clean_review  \n",
       " 0                [good, need, updates, improvements]  \n",
       " 1  [worst, mobile, bought, ever, battery, drainin...  \n",
       " 2                     [cash, back, already, january]  \n",
       " 3                                             [good]  \n",
       " 4  [worst, phone, everthey, changed, last, phone,...  ,\n",
       " (14675, 3))"
      ]
     },
     "execution_count": 6,
     "metadata": {},
     "output_type": "execute_result"
    }
   ],
   "source": [
    "# Cleaning further after tokenization.\n",
    "data['clean_review'] = data['clean_review'].apply\\\n",
    "(lambda x:[word for word in x if word not in stopwords.words(\"english\") and len(word) > 3])\n",
    "data.head(), data.shape"
   ]
  },
  {
   "cell_type": "code",
   "execution_count": 7,
   "metadata": {
    "execution": {
     "iopub.execute_input": "2021-11-19T13:33:37.022775Z",
     "iopub.status.busy": "2021-11-19T13:33:37.022266Z",
     "iopub.status.idle": "2021-11-19T13:33:37.038064Z",
     "shell.execute_reply": "2021-11-19T13:33:37.036917Z",
     "shell.execute_reply.started": "2021-11-19T13:33:37.022735Z"
    },
    "id": "AD8zZXBx-vm-"
   },
   "outputs": [
    {
     "data": {
      "text/plain": [
       "(12952, 3)"
      ]
     },
     "execution_count": 7,
     "metadata": {},
     "output_type": "execute_result"
    }
   ],
   "source": [
    "data = data[data['clean_review'].map(lambda x: len(x)) > 1].reset_index(drop=True)\n",
    "data.shape"
   ]
  },
  {
   "cell_type": "markdown",
   "metadata": {
    "id": "3mdENIOIAGdN"
   },
   "source": [
    "## LEMMATIZATION"
   ]
  },
  {
   "cell_type": "code",
   "execution_count": 8,
   "metadata": {
    "_kg_hide-output": true,
    "execution": {
     "iopub.execute_input": "2021-11-19T13:33:37.039793Z",
     "iopub.status.busy": "2021-11-19T13:33:37.03942Z",
     "iopub.status.idle": "2021-11-19T13:33:37.051302Z",
     "shell.execute_reply": "2021-11-19T13:33:37.050269Z",
     "shell.execute_reply.started": "2021-11-19T13:33:37.039752Z"
    },
    "id": "YuX-jhY36rFC",
    "outputId": "259a276a-aa54-478e-a0a6-50e9c0ecf9b7"
   },
   "outputs": [
    {
     "name": "stderr",
     "output_type": "stream",
     "text": [
      "[nltk_data] Downloading package wordnet to\n",
      "[nltk_data]     C:\\Users\\Administrator\\AppData\\Roaming\\nltk_data...\n",
      "[nltk_data]   Package wordnet is already up-to-date!\n"
     ]
    },
    {
     "data": {
      "text/plain": [
       "True"
      ]
     },
     "execution_count": 8,
     "metadata": {},
     "output_type": "execute_result"
    }
   ],
   "source": [
    "from nltk.stem import WordNetLemmatizer\n",
    "nltk.download('wordnet')"
   ]
  },
  {
   "cell_type": "code",
   "execution_count": 9,
   "metadata": {
    "execution": {
     "iopub.execute_input": "2021-11-19T13:33:37.053712Z",
     "iopub.status.busy": "2021-11-19T13:33:37.053065Z",
     "iopub.status.idle": "2021-11-19T13:33:37.672589Z",
     "shell.execute_reply": "2021-11-19T13:33:37.671651Z",
     "shell.execute_reply.started": "2021-11-19T13:33:37.053664Z"
    },
    "id": "vtjwjnDGALF6",
    "outputId": "42f3018b-df41-49b7-d9d1-bc9d61c30b8c"
   },
   "outputs": [
    {
     "data": {
      "text/html": [
       "<div>\n",
       "<style scoped>\n",
       "    .dataframe tbody tr th:only-of-type {\n",
       "        vertical-align: middle;\n",
       "    }\n",
       "\n",
       "    .dataframe tbody tr th {\n",
       "        vertical-align: top;\n",
       "    }\n",
       "\n",
       "    .dataframe thead th {\n",
       "        text-align: right;\n",
       "    }\n",
       "</style>\n",
       "<table border=\"1\" class=\"dataframe\">\n",
       "  <thead>\n",
       "    <tr style=\"text-align: right;\">\n",
       "      <th></th>\n",
       "      <th>sentiment</th>\n",
       "      <th>review</th>\n",
       "      <th>clean_review</th>\n",
       "    </tr>\n",
       "  </thead>\n",
       "  <tbody>\n",
       "    <tr>\n",
       "      <th>0</th>\n",
       "      <td>1</td>\n",
       "      <td>good but need updates and improvements</td>\n",
       "      <td>[good, need, update, improvement]</td>\n",
       "    </tr>\n",
       "    <tr>\n",
       "      <th>1</th>\n",
       "      <td>0</td>\n",
       "      <td>worst mobile i have bought ever, battery is dr...</td>\n",
       "      <td>[worst, mobile, bought, ever, battery, drainin...</td>\n",
       "    </tr>\n",
       "    <tr>\n",
       "      <th>2</th>\n",
       "      <td>1</td>\n",
       "      <td>when i will get my 10% cash back.... its alrea...</td>\n",
       "      <td>[cash, back, already, january]</td>\n",
       "    </tr>\n",
       "    <tr>\n",
       "      <th>3</th>\n",
       "      <td>0</td>\n",
       "      <td>the worst phone everthey have changed the last...</td>\n",
       "      <td>[worst, phone, everthey, changed, last, phone,...</td>\n",
       "    </tr>\n",
       "    <tr>\n",
       "      <th>4</th>\n",
       "      <td>0</td>\n",
       "      <td>only i'm telling don't buyi'm totally disappoi...</td>\n",
       "      <td>[telling, buyi, totally, disappointedpoor, bat...</td>\n",
       "    </tr>\n",
       "  </tbody>\n",
       "</table>\n",
       "</div>"
      ],
      "text/plain": [
       "   sentiment                                             review  \\\n",
       "0          1             good but need updates and improvements   \n",
       "1          0  worst mobile i have bought ever, battery is dr...   \n",
       "2          1  when i will get my 10% cash back.... its alrea...   \n",
       "3          0  the worst phone everthey have changed the last...   \n",
       "4          0  only i'm telling don't buyi'm totally disappoi...   \n",
       "\n",
       "                                        clean_review  \n",
       "0                  [good, need, update, improvement]  \n",
       "1  [worst, mobile, bought, ever, battery, drainin...  \n",
       "2                     [cash, back, already, january]  \n",
       "3  [worst, phone, everthey, changed, last, phone,...  \n",
       "4  [telling, buyi, totally, disappointedpoor, bat...  "
      ]
     },
     "execution_count": 9,
     "metadata": {},
     "output_type": "execute_result"
    }
   ],
   "source": [
    "data['clean_review'] = data['clean_review'].apply\\\n",
    "(lambda x: [WordNetLemmatizer().lemmatize(word) for word in x])\n",
    "data.head()"
   ]
  },
  {
   "cell_type": "markdown",
   "metadata": {
    "id": "rWpHoxvP6jpL"
   },
   "source": [
    "## Extracting only NOUN"
   ]
  },
  {
   "cell_type": "code",
   "execution_count": 10,
   "metadata": {
    "execution": {
     "iopub.execute_input": "2021-11-19T13:33:37.699571Z",
     "iopub.status.busy": "2021-11-19T13:33:37.699305Z",
     "iopub.status.idle": "2021-11-19T13:33:58.937042Z",
     "shell.execute_reply": "2021-11-19T13:33:58.935644Z",
     "shell.execute_reply.started": "2021-11-19T13:33:37.699541Z"
    },
    "id": "YACmciYt8yZR"
   },
   "outputs": [],
   "source": [
    "data['clean_review'] = data['clean_review'].apply\\\n",
    "(lambda x: [word for word in x if nltk.pos_tag([word])[0][1] == 'NN'])"
   ]
  },
  {
   "cell_type": "code",
   "execution_count": 11,
   "metadata": {
    "execution": {
     "iopub.execute_input": "2021-11-19T13:33:58.93931Z",
     "iopub.status.busy": "2021-11-19T13:33:58.938967Z",
     "iopub.status.idle": "2021-11-19T13:33:58.963462Z",
     "shell.execute_reply": "2021-11-19T13:33:58.962772Z",
     "shell.execute_reply.started": "2021-11-19T13:33:58.939268Z"
    },
    "id": "5ZEygngw6rKO"
   },
   "outputs": [],
   "source": [
    "data = data[data['clean_review'].map(lambda x: len(x)) > 1].reset_index(drop=True)\n",
    "# Keeping records with more than single words"
   ]
  },
  {
   "cell_type": "code",
   "execution_count": 12,
   "metadata": {
    "execution": {
     "iopub.execute_input": "2021-11-19T13:33:58.967947Z",
     "iopub.status.busy": "2021-11-19T13:33:58.967663Z",
     "iopub.status.idle": "2021-11-19T13:33:58.985186Z",
     "shell.execute_reply": "2021-11-19T13:33:58.983789Z",
     "shell.execute_reply.started": "2021-11-19T13:33:58.967916Z"
    },
    "id": "36_uogfm6rPv",
    "outputId": "465a25cf-7aff-455b-d57f-d76c40c3b608"
   },
   "outputs": [
    {
     "data": {
      "text/plain": [
       "(   sentiment                                             review  \\\n",
       " 0          1             good but need updates and improvements   \n",
       " 1          0  worst mobile i have bought ever, battery is dr...   \n",
       " 2          1  when i will get my 10% cash back.... its alrea...   \n",
       " 3          0  the worst phone everthey have changed the last...   \n",
       " 4          0  only i'm telling don't buyi'm totally disappoi...   \n",
       " \n",
       "                                         clean_review  \n",
       " 0                        [need, update, improvement]  \n",
       " 1  [mobile, bought, battery, hell, backup, hour, ...  \n",
       " 2                                    [cash, january]  \n",
       " 3  [phone, everthey, phone, problem, amazon, phon...  \n",
       " 4  [buyi, disappointedpoor, batterypoor, camerawa...  ,\n",
       " (11181, 3))"
      ]
     },
     "execution_count": 12,
     "metadata": {},
     "output_type": "execute_result"
    }
   ],
   "source": [
    "data.head(), data.shape"
   ]
  },
  {
   "cell_type": "markdown",
   "metadata": {
    "id": "WDmZEbxSK_Dk"
   },
   "source": [
    "## Document Term Matrix"
   ]
  },
  {
   "cell_type": "code",
   "execution_count": 13,
   "metadata": {
    "execution": {
     "iopub.execute_input": "2021-11-19T13:34:06.398752Z",
     "iopub.status.busy": "2021-11-19T13:34:06.398348Z",
     "iopub.status.idle": "2021-11-19T13:34:06.665187Z",
     "shell.execute_reply": "2021-11-19T13:34:06.664549Z",
     "shell.execute_reply.started": "2021-11-19T13:34:06.398699Z"
    },
    "id": "l6LhHdoXLMUj"
   },
   "outputs": [],
   "source": [
    "import gensim\n",
    "from gensim import corpora"
   ]
  },
  {
   "cell_type": "code",
   "execution_count": 14,
   "metadata": {
    "execution": {
     "iopub.execute_input": "2021-11-19T13:34:06.667156Z",
     "iopub.status.busy": "2021-11-19T13:34:06.666223Z",
     "iopub.status.idle": "2021-11-19T13:34:06.864602Z",
     "shell.execute_reply": "2021-11-19T13:34:06.863619Z",
     "shell.execute_reply.started": "2021-11-19T13:34:06.667117Z"
    },
    "id": "6ixgVNY6LPaV",
    "outputId": "4a84b12c-207e-46c7-9a94-ca6c938a1248"
   },
   "outputs": [
    {
     "name": "stdout",
     "output_type": "stream",
     "text": [
      "Dictionary(6724 unique tokens: ['improvement', 'need', 'update', 'amazon', 'backup']...)\n"
     ]
    }
   ],
   "source": [
    "dictionary = corpora.Dictionary(data['clean_review'])\n",
    "print(dictionary)\n",
    "\n",
    "# We have 6724 unique tokens"
   ]
  },
  {
   "cell_type": "code",
   "execution_count": 15,
   "metadata": {
    "execution": {
     "iopub.execute_input": "2021-11-19T13:34:06.866425Z",
     "iopub.status.busy": "2021-11-19T13:34:06.866035Z",
     "iopub.status.idle": "2021-11-19T13:34:06.982393Z",
     "shell.execute_reply": "2021-11-19T13:34:06.981463Z",
     "shell.execute_reply.started": "2021-11-19T13:34:06.866381Z"
    },
    "id": "OqA8Ag3JL-La",
    "outputId": "8d1e6b0d-929c-4d36-df4d-57a1b1261e90"
   },
   "outputs": [
    {
     "data": {
      "text/plain": [
       "0                             [(0, 1), (1, 1), (2, 1)]\n",
       "1    [(3, 1), (4, 1), (5, 2), (6, 1), (7, 1), (8, 1...\n",
       "2                                   [(19, 1), (20, 1)]\n",
       "3                  [(3, 2), (21, 1), (22, 3), (23, 1)]\n",
       "4        [(24, 1), (25, 1), (26, 1), (27, 1), (28, 1)]\n",
       "5    [(14, 1), (22, 1), (29, 1), (30, 1), (31, 1), ...\n",
       "6                           [(5, 1), (36, 1), (37, 1)]\n",
       "7    [(14, 2), (22, 2), (23, 2), (34, 1), (38, 1), ...\n",
       "8                 [(44, 1), (45, 1), (46, 1), (47, 1)]\n",
       "9                  [(8, 1), (22, 1), (48, 1), (49, 1)]\n",
       "Name: clean_review, dtype: object"
      ]
     },
     "execution_count": 15,
     "metadata": {},
     "output_type": "execute_result"
    }
   ],
   "source": [
    "doc_term_matrix = data['clean_review'].apply(lambda x: dictionary.doc2bow(x))\n",
    "doc_term_matrix[:10]\n",
    "\n",
    "# Each tokenized words has been assigned index value and thier count in corpus"
   ]
  },
  {
   "cell_type": "markdown",
   "metadata": {
    "id": "FO0lW1P-MUp7"
   },
   "source": [
    "# LDA"
   ]
  },
  {
   "cell_type": "code",
   "execution_count": 16,
   "metadata": {
    "execution": {
     "iopub.execute_input": "2021-11-19T13:34:06.99041Z",
     "iopub.status.busy": "2021-11-19T13:34:06.990172Z",
     "iopub.status.idle": "2021-11-19T13:34:30.264591Z",
     "shell.execute_reply": "2021-11-19T13:34:30.263625Z",
     "shell.execute_reply.started": "2021-11-19T13:34:06.990382Z"
    },
    "id": "Jki5GyQ5MPGX"
   },
   "outputs": [],
   "source": [
    "Lda = gensim.models.ldamodel.LdaModel\n",
    "ldamodel = Lda(corpus=doc_term_matrix, num_topics=12, id2word=dictionary, passes=10,random_state=45)"
   ]
  },
  {
   "cell_type": "code",
   "execution_count": 17,
   "metadata": {
    "execution": {
     "iopub.execute_input": "2021-11-19T13:34:30.26603Z",
     "iopub.status.busy": "2021-11-19T13:34:30.265809Z",
     "iopub.status.idle": "2021-11-19T13:34:30.278222Z",
     "shell.execute_reply": "2021-11-19T13:34:30.277471Z",
     "shell.execute_reply.started": "2021-11-19T13:34:30.266004Z"
    },
    "id": "gXPVQzXNMgcx",
    "outputId": "923ec445-175d-4f29-815a-ffbadc3cad9f"
   },
   "outputs": [
    {
     "data": {
      "text/plain": [
       "[(0,\n",
       "  '0.208*\"camera\" + 0.104*\"quality\" + 0.041*\"phone\" + 0.033*\"sound\" + 0.028*\"front\" + 0.023*\"battery\" + 0.022*\"mode\" + 0.020*\"depth\" + 0.019*\"display\" + 0.018*\"rear\"'),\n",
       " (1,\n",
       "  '0.117*\"feature\" + 0.065*\"phone\" + 0.057*\"android\" + 0.032*\"stock\" + 0.032*\"card\" + 0.028*\"memory\" + 0.028*\"contact\" + 0.023*\"user\" + 0.022*\"slot\" + 0.016*\"option\"'),\n",
       " (2,\n",
       "  '0.341*\"mobile\" + 0.184*\"problem\" + 0.094*\"heating\" + 0.023*\"heat\" + 0.017*\"network\" + 0.014*\"battery\" + 0.011*\"hang\" + 0.009*\"month\" + 0.007*\"connection\" + 0.006*\"player\"'),\n",
       " (3,\n",
       "  '0.061*\"screen\" + 0.061*\"charger\" + 0.058*\"phone\" + 0.050*\"turbo\" + 0.029*\"glass\" + 0.020*\"processor\" + 0.018*\"gorilla\" + 0.017*\"core\" + 0.016*\"month\" + 0.016*\"time\"'),\n",
       " (4,\n",
       "  '0.156*\"update\" + 0.079*\"software\" + 0.042*\"system\" + 0.036*\"phone\" + 0.034*\"oreo\" + 0.024*\"need\" + 0.016*\"problem\" + 0.016*\"bill\" + 0.015*\"hardware\" + 0.015*\"lenovo\"'),\n",
       " (5,\n",
       "  '0.192*\"phone\" + 0.102*\"battery\" + 0.062*\"price\" + 0.058*\"performance\" + 0.057*\"camera\" + 0.052*\"awesome\" + 0.046*\"backup\" + 0.030*\"range\" + 0.029*\"life\" + 0.021*\"excellent\"'),\n",
       " (6,\n",
       "  '0.151*\"battery\" + 0.096*\"issue\" + 0.060*\"heating\" + 0.059*\"phone\" + 0.049*\"fast\" + 0.044*\"hour\" + 0.042*\"drain\" + 0.041*\"charge\" + 0.031*\"time\" + 0.021*\"usage\"'),\n",
       " (7,\n",
       "  '0.386*\"product\" + 0.032*\"price\" + 0.029*\"excellent\" + 0.022*\"smartphone\" + 0.020*\"amazon\" + 0.019*\"earphone\" + 0.017*\"till\" + 0.015*\"awesome\" + 0.013*\"purchase\" + 0.010*\"expectation\"'),\n",
       " (8,\n",
       "  '0.070*\"call\" + 0.047*\"phone\" + 0.041*\"network\" + 0.034*\"work\" + 0.032*\"device\" + 0.031*\"screen\" + 0.028*\"issue\" + 0.027*\"speaker\" + 0.026*\"support\" + 0.025*\"option\"'),\n",
       " (9,\n",
       "  '0.186*\"lenovo\" + 0.164*\"note\" + 0.068*\"phone\" + 0.022*\"redmi\" + 0.016*\"review\" + 0.016*\"killer\" + 0.013*\"model\" + 0.011*\"moto\" + 0.011*\"company\" + 0.011*\"device\"'),\n",
       " (10,\n",
       "  '0.115*\"phone\" + 0.072*\"amazon\" + 0.044*\"service\" + 0.035*\"return\" + 0.033*\"lenovo\" + 0.026*\"day\" + 0.021*\"please\" + 0.020*\"customer\" + 0.020*\"problem\" + 0.017*\"time\"'),\n",
       " (11,\n",
       "  '0.194*\"money\" + 0.104*\"waste\" + 0.090*\"worth\" + 0.073*\"value\" + 0.041*\"delivery\" + 0.033*\"super\" + 0.029*\"superb\" + 0.026*\"buying\" + 0.022*\"phone\" + 0.018*\"dont\"')]"
      ]
     },
     "execution_count": 17,
     "metadata": {},
     "output_type": "execute_result"
    }
   ],
   "source": [
    "ldamodel.print_topics()"
   ]
  },
  {
   "cell_type": "markdown",
   "metadata": {},
   "source": [
    "## Compute Coherence Score"
   ]
  },
  {
   "cell_type": "code",
   "execution_count": 18,
   "metadata": {
    "execution": {
     "iopub.execute_input": "2021-11-19T13:34:42.555199Z",
     "iopub.status.busy": "2021-11-19T13:34:42.554959Z",
     "iopub.status.idle": "2021-11-19T13:34:44.875548Z",
     "shell.execute_reply": "2021-11-19T13:34:44.874274Z",
     "shell.execute_reply.started": "2021-11-19T13:34:42.555168Z"
    },
    "id": "gqKlg0I2TW5D",
    "outputId": "a7792d43-e308-4d52-e6ec-af1127dfecc2"
   },
   "outputs": [
    {
     "name": "stdout",
     "output_type": "stream",
     "text": [
      "\n",
      "Coherence Score:  0.5527744184708548\n"
     ]
    }
   ],
   "source": [
    "from gensim.models.coherencemodel import CoherenceModel\n",
    "coherence_model_lda = CoherenceModel(model=ldamodel,texts=data['clean_review'],\\\n",
    "                                     dictionary=dictionary , coherence='c_v')\n",
    "print('\\nCoherence Score: ', coherence_model_lda.get_coherence())"
   ]
  },
  {
   "cell_type": "markdown",
   "metadata": {},
   "source": [
    "## Combining topics from 12 to 6 "
   ]
  },
  {
   "cell_type": "code",
   "execution_count": 20,
   "metadata": {
    "execution": {
     "iopub.execute_input": "2021-11-19T13:34:06.99041Z",
     "iopub.status.busy": "2021-11-19T13:34:06.990172Z",
     "iopub.status.idle": "2021-11-19T13:34:30.264591Z",
     "shell.execute_reply": "2021-11-19T13:34:30.263625Z",
     "shell.execute_reply.started": "2021-11-19T13:34:06.990382Z"
    },
    "id": "Jki5GyQ5MPGX"
   },
   "outputs": [],
   "source": [
    "Lda = gensim.models.ldamodel.LdaModel\n",
    "ldamodel = Lda(corpus=doc_term_matrix, num_topics=6, id2word=dictionary, passes=10,random_state=45)"
   ]
  },
  {
   "cell_type": "code",
   "execution_count": 21,
   "metadata": {},
   "outputs": [
    {
     "data": {
      "text/plain": [
       "[(0,\n",
       "  '0.157*\"camera\" + 0.078*\"quality\" + 0.039*\"phone\" + 0.022*\"sound\" + 0.021*\"front\" + 0.019*\"mode\" + 0.015*\"depth\" + 0.014*\"display\" + 0.014*\"performance\" + 0.014*\"rear\"'),\n",
       " (1,\n",
       "  '0.081*\"note\" + 0.071*\"lenovo\" + 0.041*\"phone\" + 0.025*\"call\" + 0.024*\"feature\" + 0.019*\"android\" + 0.015*\"product\" + 0.012*\"speaker\" + 0.012*\"option\" + 0.010*\"stock\"'),\n",
       " (2,\n",
       "  '0.168*\"mobile\" + 0.090*\"problem\" + 0.049*\"heating\" + 0.037*\"amazon\" + 0.035*\"product\" + 0.030*\"issue\" + 0.022*\"return\" + 0.013*\"time\" + 0.013*\"want\" + 0.012*\"network\"'),\n",
       " (3,\n",
       "  '0.071*\"phone\" + 0.035*\"money\" + 0.034*\"screen\" + 0.025*\"charger\" + 0.023*\"product\" + 0.021*\"turbo\" + 0.019*\"lenovo\" + 0.019*\"waste\" + 0.014*\"amazon\" + 0.013*\"value\"'),\n",
       " (4,\n",
       "  '0.085*\"phone\" + 0.045*\"issue\" + 0.039*\"update\" + 0.032*\"service\" + 0.027*\"lenovo\" + 0.027*\"network\" + 0.027*\"problem\" + 0.020*\"software\" + 0.014*\"signal\" + 0.012*\"call\"'),\n",
       " (5,\n",
       "  '0.133*\"battery\" + 0.128*\"phone\" + 0.034*\"price\" + 0.030*\"awesome\" + 0.030*\"fast\" + 0.029*\"camera\" + 0.029*\"performance\" + 0.027*\"backup\" + 0.024*\"product\" + 0.021*\"heating\"')]"
      ]
     },
     "execution_count": 21,
     "metadata": {},
     "output_type": "execute_result"
    }
   ],
   "source": [
    "ldamodel.print_topics()"
   ]
  },
  {
   "cell_type": "code",
   "execution_count": 22,
   "metadata": {},
   "outputs": [
    {
     "name": "stdout",
     "output_type": "stream",
     "text": [
      "\n",
      "Coherence Score:  0.5855503994613088\n"
     ]
    }
   ],
   "source": [
    "from gensim.models.coherencemodel import CoherenceModel\n",
    "coherence_model_lda = CoherenceModel(model=ldamodel,texts=data['clean_review'],\\\n",
    "                                     dictionary=dictionary , coherence='c_v')\n",
    "print('\\nCoherence Score: ', coherence_model_lda.get_coherence())"
   ]
  },
  {
   "cell_type": "code",
   "execution_count": 23,
   "metadata": {},
   "outputs": [],
   "source": [
    "topic_names = {0:'Camera Quality',1:'Phone Features',2:'Mobile Heating',3:'Charger',4:'Network',5:'Battery'}\n",
    "topic_details=[]\n",
    "for i,j in enumerate(ldamodel[doc_term_matrix]):\n",
    "    topic_details.append(sorted(j,key=lambda x: x[1],reverse=True)[0][0])\n",
    "data[\"Topic_No\"] = topic_details\n",
    "data['Topic_Name'] = data[\"Topic_No\"].map(topic_names)"
   ]
  },
  {
   "cell_type": "code",
   "execution_count": 24,
   "metadata": {},
   "outputs": [
    {
     "data": {
      "text/html": [
       "<div>\n",
       "<style scoped>\n",
       "    .dataframe tbody tr th:only-of-type {\n",
       "        vertical-align: middle;\n",
       "    }\n",
       "\n",
       "    .dataframe tbody tr th {\n",
       "        vertical-align: top;\n",
       "    }\n",
       "\n",
       "    .dataframe thead th {\n",
       "        text-align: right;\n",
       "    }\n",
       "</style>\n",
       "<table border=\"1\" class=\"dataframe\">\n",
       "  <thead>\n",
       "    <tr style=\"text-align: right;\">\n",
       "      <th></th>\n",
       "      <th>sentiment</th>\n",
       "      <th>review</th>\n",
       "      <th>clean_review</th>\n",
       "      <th>Topic_No</th>\n",
       "      <th>Topic_Name</th>\n",
       "    </tr>\n",
       "  </thead>\n",
       "  <tbody>\n",
       "    <tr>\n",
       "      <th>0</th>\n",
       "      <td>1</td>\n",
       "      <td>good but need updates and improvements</td>\n",
       "      <td>[need, update, improvement]</td>\n",
       "      <td>0</td>\n",
       "      <td>Camera Quality</td>\n",
       "    </tr>\n",
       "    <tr>\n",
       "      <th>1</th>\n",
       "      <td>0</td>\n",
       "      <td>worst mobile i have bought ever, battery is dr...</td>\n",
       "      <td>[mobile, bought, battery, hell, backup, hour, ...</td>\n",
       "      <td>3</td>\n",
       "      <td>Charger</td>\n",
       "    </tr>\n",
       "    <tr>\n",
       "      <th>2</th>\n",
       "      <td>1</td>\n",
       "      <td>when i will get my 10% cash back.... its alrea...</td>\n",
       "      <td>[cash, january]</td>\n",
       "      <td>0</td>\n",
       "      <td>Camera Quality</td>\n",
       "    </tr>\n",
       "    <tr>\n",
       "      <th>3</th>\n",
       "      <td>0</td>\n",
       "      <td>the worst phone everthey have changed the last...</td>\n",
       "      <td>[phone, everthey, phone, problem, amazon, phon...</td>\n",
       "      <td>5</td>\n",
       "      <td>Battery</td>\n",
       "    </tr>\n",
       "    <tr>\n",
       "      <th>4</th>\n",
       "      <td>0</td>\n",
       "      <td>only i'm telling don't buyi'm totally disappoi...</td>\n",
       "      <td>[buyi, disappointedpoor, batterypoor, camerawa...</td>\n",
       "      <td>4</td>\n",
       "      <td>Network</td>\n",
       "    </tr>\n",
       "    <tr>\n",
       "      <th>...</th>\n",
       "      <td>...</td>\n",
       "      <td>...</td>\n",
       "      <td>...</td>\n",
       "      <td>...</td>\n",
       "      <td>...</td>\n",
       "    </tr>\n",
       "    <tr>\n",
       "      <th>11176</th>\n",
       "      <td>0</td>\n",
       "      <td>very poour battery parformance and prosecer</td>\n",
       "      <td>[poour, battery, parformance, prosecer]</td>\n",
       "      <td>5</td>\n",
       "      <td>Battery</td>\n",
       "    </tr>\n",
       "    <tr>\n",
       "      <th>11177</th>\n",
       "      <td>1</td>\n",
       "      <td>i really like the phone, everything is working...</td>\n",
       "      <td>[phone, everything, fine, whater, phone]</td>\n",
       "      <td>5</td>\n",
       "      <td>Battery</td>\n",
       "    </tr>\n",
       "    <tr>\n",
       "      <th>11178</th>\n",
       "      <td>1</td>\n",
       "      <td>the lenovo k8 note is awesome. it takes best p...</td>\n",
       "      <td>[lenovo, note, awesome, picture, camera, slim,...</td>\n",
       "      <td>5</td>\n",
       "      <td>Battery</td>\n",
       "    </tr>\n",
       "    <tr>\n",
       "      <th>11179</th>\n",
       "      <td>1</td>\n",
       "      <td>awesome gaget.. @ this price</td>\n",
       "      <td>[awesome, gaget, price]</td>\n",
       "      <td>5</td>\n",
       "      <td>Battery</td>\n",
       "    </tr>\n",
       "    <tr>\n",
       "      <th>11180</th>\n",
       "      <td>1</td>\n",
       "      <td>this phone is nice processing will be successf...</td>\n",
       "      <td>[phone, processing, camera]</td>\n",
       "      <td>1</td>\n",
       "      <td>Phone Features</td>\n",
       "    </tr>\n",
       "  </tbody>\n",
       "</table>\n",
       "<p>11181 rows × 5 columns</p>\n",
       "</div>"
      ],
      "text/plain": [
       "       sentiment                                             review  \\\n",
       "0              1             good but need updates and improvements   \n",
       "1              0  worst mobile i have bought ever, battery is dr...   \n",
       "2              1  when i will get my 10% cash back.... its alrea...   \n",
       "3              0  the worst phone everthey have changed the last...   \n",
       "4              0  only i'm telling don't buyi'm totally disappoi...   \n",
       "...          ...                                                ...   \n",
       "11176          0        very poour battery parformance and prosecer   \n",
       "11177          1  i really like the phone, everything is working...   \n",
       "11178          1  the lenovo k8 note is awesome. it takes best p...   \n",
       "11179          1                       awesome gaget.. @ this price   \n",
       "11180          1  this phone is nice processing will be successf...   \n",
       "\n",
       "                                            clean_review  Topic_No  \\\n",
       "0                            [need, update, improvement]         0   \n",
       "1      [mobile, bought, battery, hell, backup, hour, ...         3   \n",
       "2                                        [cash, january]         0   \n",
       "3      [phone, everthey, phone, problem, amazon, phon...         5   \n",
       "4      [buyi, disappointedpoor, batterypoor, camerawa...         4   \n",
       "...                                                  ...       ...   \n",
       "11176            [poour, battery, parformance, prosecer]         5   \n",
       "11177           [phone, everything, fine, whater, phone]         5   \n",
       "11178  [lenovo, note, awesome, picture, camera, slim,...         5   \n",
       "11179                            [awesome, gaget, price]         5   \n",
       "11180                        [phone, processing, camera]         1   \n",
       "\n",
       "           Topic_Name  \n",
       "0      Camera Quality  \n",
       "1             Charger  \n",
       "2      Camera Quality  \n",
       "3             Battery  \n",
       "4             Network  \n",
       "...               ...  \n",
       "11176         Battery  \n",
       "11177         Battery  \n",
       "11178         Battery  \n",
       "11179         Battery  \n",
       "11180  Phone Features  \n",
       "\n",
       "[11181 rows x 5 columns]"
      ]
     },
     "execution_count": 24,
     "metadata": {},
     "output_type": "execute_result"
    }
   ],
   "source": [
    "data"
   ]
  },
  {
   "cell_type": "code",
   "execution_count": 25,
   "metadata": {},
   "outputs": [
    {
     "name": "stdout",
     "output_type": "stream",
     "text": [
      "sentiment                                                 0\n",
      "review          very poour battery parformance and prosecer\n",
      "clean_review        [poour, battery, parformance, prosecer]\n",
      "Topic_No                                                  5\n",
      "Topic_Name                                          Battery\n",
      "Name: 11176, dtype: object\n"
     ]
    }
   ],
   "source": [
    "print(data.iloc[11176])"
   ]
  },
  {
   "cell_type": "code",
   "execution_count": null,
   "metadata": {},
   "outputs": [],
   "source": []
  }
 ],
 "metadata": {
  "kernelspec": {
   "display_name": "Python 3 (ipykernel)",
   "language": "python",
   "name": "python3"
  },
  "language_info": {
   "codemirror_mode": {
    "name": "ipython",
    "version": 3
   },
   "file_extension": ".py",
   "mimetype": "text/x-python",
   "name": "python",
   "nbconvert_exporter": "python",
   "pygments_lexer": "ipython3",
   "version": "3.9.7"
  }
 },
 "nbformat": 4,
 "nbformat_minor": 4
}
